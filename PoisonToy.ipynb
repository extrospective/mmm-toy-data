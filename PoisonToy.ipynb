{
 "cells": [
  {
   "cell_type": "code",
   "execution_count": 1,
   "id": "a0a669bd-b772-4163-9187-43dd65563632",
   "metadata": {},
   "outputs": [],
   "source": [
    "import os\n",
    "import sys\n",
    "import pandas as pd\n",
    "import numpy as np\n",
    "#sys.path.append(os.path.join('..', 'MarketingMixModel'))\n",
    "#from MarketingMixModel import MarketingMixModel"
   ]
  },
  {
   "cell_type": "code",
   "execution_count": 2,
   "id": "d8812bec-39d2-4049-86d6-140fadd9db71",
   "metadata": {},
   "outputs": [
    {
     "name": "stdout",
     "output_type": "stream",
     "text": [
      "Running set size 1000 and stderr 1\n",
      "Running set size 1000 and stderr 50\n",
      "Running set size 100000 and stderr 1\n",
      "Running set size 100000 and stderr 50\n"
     ]
    }
   ],
   "source": [
    "for dataset_size in [1000, 100000]:\n",
    "    for sderr in [1, 50]:\n",
    "        print(f'Running set size {dataset_size} and stderr {sderr}')\n",
    "        # random bits of food from 1 to 10000 each period\n",
    "        data = np.random.randint(1, 10000, size=dataset_size)\n",
    "        df = pd.DataFrame(data, columns=['food'])\n",
    "        df['poison'] = 0\n",
    "        df= df.reset_index()\n",
    "        # two periods where miniscule amount of poison are consumed.\n",
    "        # but even small amounts of poison are devasating although this is not done much\n",
    "        df.loc[df.index==3, 'poison'] = 1\n",
    "        df.loc[df.index==8, 'poison'] = 2\n",
    "\n",
    "        # specify the underlying VAR equation which we intend to reverse engineer\n",
    "\n",
    "        # matrix math formula\n",
    "        # health = health t-1 + health_const * food t-1 * food_const * poison t-1 * poison_const + random variable\n",
    "\n",
    "        health_const = 0.999999\n",
    "        food_const = 0.001\n",
    "        poison_const = -500\n",
    "\n",
    "        df['health'] = 10000 # base level\n",
    "        for i in range(1, dataset_size): # level we intend to fill in\n",
    "            df.loc[df.index==i, 'health'] = df.at[i-1, 'food'] *food_const  + df.at[(i-1), 'health']*health_const + df.at[(i-1), 'poison'] * poison_const + np.random.normal(scale=sderr, size=1)\n",
    "\n",
    "        # in this case, we think that food and poison do not really depend on health, although they are specified as endogenous!\n",
    "\n",
    "        df.to_csv(os.path.join('data', f'poison_{dataset_size}_{sderr}err.csv'))"
   ]
  },
  {
   "cell_type": "code",
   "execution_count": null,
   "id": "e580d4a2-e5db-402c-9440-2f2115b409dd",
   "metadata": {},
   "outputs": [],
   "source": []
  }
 ],
 "metadata": {
  "kernelspec": {
   "display_name": "Python 3",
   "language": "python",
   "name": "python3"
  },
  "language_info": {
   "codemirror_mode": {
    "name": "ipython",
    "version": 3
   },
   "file_extension": ".py",
   "mimetype": "text/x-python",
   "name": "python",
   "nbconvert_exporter": "python",
   "pygments_lexer": "ipython3",
   "version": "3.9.4"
  }
 },
 "nbformat": 4,
 "nbformat_minor": 5
}
